{
 "cells": [
  {
   "cell_type": "code",
   "execution_count": 2,
   "id": "64e60fd1-1e3a-4ab8-9611-ab387b3a3516",
   "metadata": {},
   "outputs": [],
   "source": [
    "import numpy as np"
   ]
  },
  {
   "cell_type": "code",
   "execution_count": 3,
   "id": "0171de31-c550-4945-823a-98222cb30bf9",
   "metadata": {},
   "outputs": [],
   "source": [
    "a=np.array([1,2,3])"
   ]
  },
  {
   "cell_type": "code",
   "execution_count": 4,
   "id": "f6aec758-78cb-42db-9454-d256cf879664",
   "metadata": {},
   "outputs": [
    {
     "data": {
      "text/plain": [
       "array([1, 2, 3])"
      ]
     },
     "execution_count": 4,
     "metadata": {},
     "output_type": "execute_result"
    }
   ],
   "source": [
    "a"
   ]
  },
  {
   "cell_type": "code",
   "execution_count": 9,
   "id": "7cf74713-467d-455c-8c88-737ff2615857",
   "metadata": {},
   "outputs": [],
   "source": [
    "a=np.array ([30,24,90])"
   ]
  },
  {
   "cell_type": "code",
   "execution_count": 10,
   "id": "156432d4-59e1-45ef-96bf-b7258038a184",
   "metadata": {},
   "outputs": [
    {
     "data": {
      "text/plain": [
       "array([30, 24, 90])"
      ]
     },
     "execution_count": 10,
     "metadata": {},
     "output_type": "execute_result"
    }
   ],
   "source": [
    "a"
   ]
  },
  {
   "cell_type": "code",
   "execution_count": 22,
   "id": "f12339eb-5000-49ab-b508-45ace2fcabfc",
   "metadata": {},
   "outputs": [],
   "source": [
    "#creating numpy with 5 arrays\n",
    "a=np.array([6,7,8,7,5])"
   ]
  },
  {
   "cell_type": "code",
   "execution_count": 23,
   "id": "5fca1efb-01fe-4d32-8511-a0b27156fd88",
   "metadata": {},
   "outputs": [
    {
     "data": {
      "text/plain": [
       "array([6, 7, 8, 7, 5])"
      ]
     },
     "execution_count": 23,
     "metadata": {},
     "output_type": "execute_result"
    }
   ],
   "source": [
    "a"
   ]
  },
  {
   "cell_type": "code",
   "execution_count": 18,
   "id": "c8297c06-7597-4b4d-90de-fff83a4349d3",
   "metadata": {},
   "outputs": [],
   "source": [
    "#creating numpy with 10 arrays\n",
    "b=np.array([2,3,4,5,6,7,8,9,10,1])"
   ]
  },
  {
   "cell_type": "code",
   "execution_count": 19,
   "id": "e2855b39-fdbc-4476-a35a-e2a87781ccdc",
   "metadata": {},
   "outputs": [
    {
     "data": {
      "text/plain": [
       "array([ 2,  3,  4,  5,  6,  7,  8,  9, 10,  1])"
      ]
     },
     "execution_count": 19,
     "metadata": {},
     "output_type": "execute_result"
    }
   ],
   "source": [
    "b"
   ]
  },
  {
   "cell_type": "code",
   "execution_count": 20,
   "id": "e7bd8433-b763-4805-b754-f07673b9c876",
   "metadata": {},
   "outputs": [
    {
     "data": {
      "text/plain": [
       "(10,)"
      ]
     },
     "execution_count": 20,
     "metadata": {},
     "output_type": "execute_result"
    }
   ],
   "source": [
    "b.shape"
   ]
  },
  {
   "cell_type": "code",
   "execution_count": 21,
   "id": "68cbed48-ac2d-4fc6-85c5-dd8bda26ac0e",
   "metadata": {},
   "outputs": [
    {
     "data": {
      "text/plain": [
       "1"
      ]
     },
     "execution_count": 21,
     "metadata": {},
     "output_type": "execute_result"
    }
   ],
   "source": [
    "b.ndim"
   ]
  },
  {
   "cell_type": "code",
   "execution_count": 24,
   "id": "aa65be6b-2452-4349-b821-c011989a9108",
   "metadata": {},
   "outputs": [
    {
     "data": {
      "text/plain": [
       "(5,)"
      ]
     },
     "execution_count": 24,
     "metadata": {},
     "output_type": "execute_result"
    }
   ],
   "source": [
    "a.shape"
   ]
  },
  {
   "cell_type": "code",
   "execution_count": 25,
   "id": "2efffc65-088e-4655-b301-d85e1af2ee72",
   "metadata": {},
   "outputs": [
    {
     "data": {
      "text/plain": [
       "1"
      ]
     },
     "execution_count": 25,
     "metadata": {},
     "output_type": "execute_result"
    }
   ],
   "source": [
    "a.ndim"
   ]
  },
  {
   "cell_type": "code",
   "execution_count": 26,
   "id": "635316ed-a969-4142-8209-e34e5c7ecf41",
   "metadata": {},
   "outputs": [],
   "source": [
    "c=np.array([[1,2],[3,4]])"
   ]
  },
  {
   "cell_type": "code",
   "execution_count": 27,
   "id": "7e5ceee9-8ecc-4315-8dd6-aebf84f54219",
   "metadata": {},
   "outputs": [
    {
     "data": {
      "text/plain": [
       "array([[1, 2],\n",
       "       [3, 4]])"
      ]
     },
     "execution_count": 27,
     "metadata": {},
     "output_type": "execute_result"
    }
   ],
   "source": [
    "c"
   ]
  },
  {
   "cell_type": "code",
   "execution_count": 28,
   "id": "8b6f2a7c-e596-455b-83c2-00a079404593",
   "metadata": {},
   "outputs": [
    {
     "data": {
      "text/plain": [
       "(2, 2)"
      ]
     },
     "execution_count": 28,
     "metadata": {},
     "output_type": "execute_result"
    }
   ],
   "source": [
    "c.shape"
   ]
  },
  {
   "cell_type": "code",
   "execution_count": 29,
   "id": "a3c8fb8f-a478-4f59-b69e-302e03f13b11",
   "metadata": {},
   "outputs": [
    {
     "data": {
      "text/plain": [
       "2"
      ]
     },
     "execution_count": 29,
     "metadata": {},
     "output_type": "execute_result"
    }
   ],
   "source": [
    "c.ndim"
   ]
  },
  {
   "cell_type": "code",
   "execution_count": 30,
   "id": "e01140cb-4c52-42cb-b7a5-ab19cb89ca68",
   "metadata": {},
   "outputs": [],
   "source": [
    "d=np.array([[3,4,5],[1,5,2]])"
   ]
  },
  {
   "cell_type": "code",
   "execution_count": 31,
   "id": "013f5c3b-a79f-46f6-831f-7a84a1192046",
   "metadata": {},
   "outputs": [
    {
     "data": {
      "text/plain": [
       "array([[3, 4, 5],\n",
       "       [1, 5, 2]])"
      ]
     },
     "execution_count": 31,
     "metadata": {},
     "output_type": "execute_result"
    }
   ],
   "source": [
    "d"
   ]
  },
  {
   "cell_type": "code",
   "execution_count": 32,
   "id": "eae9a02d-ba18-401e-82e7-2571cba01a68",
   "metadata": {},
   "outputs": [
    {
     "data": {
      "text/plain": [
       "(2, 3)"
      ]
     },
     "execution_count": 32,
     "metadata": {},
     "output_type": "execute_result"
    }
   ],
   "source": [
    "d.shape"
   ]
  },
  {
   "cell_type": "code",
   "execution_count": 33,
   "id": "10f8c323-ef60-4c10-a974-172a962d6d11",
   "metadata": {},
   "outputs": [
    {
     "data": {
      "text/plain": [
       "2"
      ]
     },
     "execution_count": 33,
     "metadata": {},
     "output_type": "execute_result"
    }
   ],
   "source": [
    "d.ndim"
   ]
  },
  {
   "cell_type": "code",
   "execution_count": 34,
   "id": "bf428ffa-31c3-45d4-a726-1ae7c98ac6ae",
   "metadata": {},
   "outputs": [
    {
     "data": {
      "text/plain": [
       "dtype('int64')"
      ]
     },
     "execution_count": 34,
     "metadata": {},
     "output_type": "execute_result"
    }
   ],
   "source": [
    "d.dtype"
   ]
  },
  {
   "cell_type": "code",
   "execution_count": 35,
   "id": "da7154ea-ee13-407b-9ab1-c2634e7f00f8",
   "metadata": {},
   "outputs": [
    {
     "data": {
      "text/plain": [
       "array([ 2,  3,  4,  5,  6,  7,  8,  9, 10,  1])"
      ]
     },
     "execution_count": 35,
     "metadata": {},
     "output_type": "execute_result"
    }
   ],
   "source": [
    "b"
   ]
  },
  {
   "cell_type": "code",
   "execution_count": 36,
   "id": "8f483660-f51a-4006-b900-c7a8aa024956",
   "metadata": {},
   "outputs": [
    {
     "data": {
      "text/plain": [
       "np.int64(4)"
      ]
     },
     "execution_count": 36,
     "metadata": {},
     "output_type": "execute_result"
    }
   ],
   "source": [
    "b[2]  #indexing"
   ]
  },
  {
   "cell_type": "code",
   "execution_count": 37,
   "id": "8f1a6b50-8701-47e7-b8a0-f3233690b47a",
   "metadata": {},
   "outputs": [
    {
     "data": {
      "text/plain": [
       "array([4, 5, 6, 7])"
      ]
     },
     "execution_count": 37,
     "metadata": {},
     "output_type": "execute_result"
    }
   ],
   "source": [
    "b[2:6]  #slicing"
   ]
  },
  {
   "cell_type": "code",
   "execution_count": 40,
   "id": "e1ee6cac-5a83-47ca-8d03-3ab797f55f45",
   "metadata": {},
   "outputs": [],
   "source": [
    "x=np.array([1,2,3,4,5])"
   ]
  },
  {
   "cell_type": "code",
   "execution_count": 41,
   "id": "5747ef2d-3050-4650-b17d-d4d57d98257b",
   "metadata": {},
   "outputs": [],
   "source": [
    "y=np.array([9,8,7,6,8])"
   ]
  },
  {
   "cell_type": "code",
   "execution_count": 42,
   "id": "aa5469dc-2129-4a0d-9cc3-707053beb07c",
   "metadata": {},
   "outputs": [
    {
     "data": {
      "text/plain": [
       "array([10, 10, 10, 10, 13])"
      ]
     },
     "execution_count": 42,
     "metadata": {},
     "output_type": "execute_result"
    }
   ],
   "source": [
    "x+y #addition\n"
   ]
  },
  {
   "cell_type": "code",
   "execution_count": 43,
   "id": "f5e9bd81-66d7-40f1-b861-87c45ea60b25",
   "metadata": {},
   "outputs": [
    {
     "data": {
      "text/plain": [
       "array([-8, -6, -4, -2, -3])"
      ]
     },
     "execution_count": 43,
     "metadata": {},
     "output_type": "execute_result"
    }
   ],
   "source": [
    "x-y #substraction"
   ]
  },
  {
   "cell_type": "code",
   "execution_count": 44,
   "id": "54d36fa1-f762-494c-827d-4872e27fa6e2",
   "metadata": {},
   "outputs": [
    {
     "data": {
      "text/plain": [
       "array([ 9, 16, 21, 24, 40])"
      ]
     },
     "execution_count": 44,
     "metadata": {},
     "output_type": "execute_result"
    }
   ],
   "source": [
    "x*y #multiplication"
   ]
  },
  {
   "cell_type": "code",
   "execution_count": 45,
   "id": "a5375265-9aa3-47ad-a8df-d7e09e70150b",
   "metadata": {},
   "outputs": [
    {
     "data": {
      "text/plain": [
       "array([0.11111111, 0.25      , 0.42857143, 0.66666667, 0.625     ])"
      ]
     },
     "execution_count": 45,
     "metadata": {},
     "output_type": "execute_result"
    }
   ],
   "source": [
    "x/y #division"
   ]
  },
  {
   "cell_type": "code",
   "execution_count": 46,
   "id": "64e9056c-39fd-4504-a0f4-e631c5f3c9a3",
   "metadata": {},
   "outputs": [
    {
     "data": {
      "text/plain": [
       "array([1.        , 1.41421356, 1.73205081, 2.        , 2.23606798])"
      ]
     },
     "execution_count": 46,
     "metadata": {},
     "output_type": "execute_result"
    }
   ],
   "source": [
    "np.sqrt(x)"
   ]
  },
  {
   "cell_type": "code",
   "execution_count": 47,
   "id": "92a64e3f-8112-4c72-a2ef-73e4930fa82f",
   "metadata": {},
   "outputs": [
    {
     "data": {
      "text/plain": [
       "array([  2.71828183,   7.3890561 ,  20.08553692,  54.59815003,\n",
       "       148.4131591 ])"
      ]
     },
     "execution_count": 47,
     "metadata": {},
     "output_type": "execute_result"
    }
   ],
   "source": [
    "np.exp(x) #exponential value:2.178"
   ]
  },
  {
   "cell_type": "code",
   "execution_count": 53,
   "id": "dce4d7ad-da99-455a-b477-a06fddf5eabb",
   "metadata": {},
   "outputs": [
    {
     "data": {
      "text/plain": [
       "7.387524"
      ]
     },
     "execution_count": 53,
     "metadata": {},
     "output_type": "execute_result"
    }
   ],
   "source": [
    "2.718**2"
   ]
  },
  {
   "cell_type": "code",
   "execution_count": 49,
   "id": "055f41c9-7781-4738-bebd-a3ccbf7ac2dd",
   "metadata": {},
   "outputs": [
    {
     "data": {
      "text/plain": [
       "148.33623849186557"
      ]
     },
     "execution_count": 49,
     "metadata": {},
     "output_type": "execute_result"
    }
   ],
   "source": [
    "2.718**5"
   ]
  },
  {
   "cell_type": "code",
   "execution_count": 51,
   "id": "1242ac2c-f894-4bf6-b2b5-034cbac07839",
   "metadata": {},
   "outputs": [
    {
     "data": {
      "text/plain": [
       "54.575510850575995"
      ]
     },
     "execution_count": 51,
     "metadata": {},
     "output_type": "execute_result"
    }
   ],
   "source": [
    "2.718**4"
   ]
  },
  {
   "cell_type": "code",
   "execution_count": 52,
   "id": "710702f7-d0ef-4464-b0cc-b027b3d45c11",
   "metadata": {},
   "outputs": [
    {
     "data": {
      "text/plain": [
       "20.079290231999998"
      ]
     },
     "execution_count": 52,
     "metadata": {},
     "output_type": "execute_result"
    }
   ],
   "source": [
    "2.718**3"
   ]
  },
  {
   "cell_type": "code",
   "execution_count": 61,
   "id": "e1c1753b-00e0-4e45-8d60-6640acbd2790",
   "metadata": {},
   "outputs": [],
   "source": [
    "z=np.arange(12) #arange"
   ]
  },
  {
   "cell_type": "code",
   "execution_count": 62,
   "id": "288144b3-bad8-4899-8b3f-f3d0965c7288",
   "metadata": {},
   "outputs": [
    {
     "data": {
      "text/plain": [
       "array([ 0,  1,  2,  3,  4,  5,  6,  7,  8,  9, 10, 11])"
      ]
     },
     "execution_count": 62,
     "metadata": {},
     "output_type": "execute_result"
    }
   ],
   "source": [
    "z"
   ]
  },
  {
   "cell_type": "code",
   "execution_count": 63,
   "id": "2a3136ef-888f-4935-ba3b-4e76beffdba0",
   "metadata": {},
   "outputs": [
    {
     "data": {
      "text/plain": [
       "1"
      ]
     },
     "execution_count": 63,
     "metadata": {},
     "output_type": "execute_result"
    }
   ],
   "source": [
    "z.ndim"
   ]
  },
  {
   "cell_type": "code",
   "execution_count": 64,
   "id": "3228bc5d-9c18-4a10-a1be-9247d2b79985",
   "metadata": {},
   "outputs": [
    {
     "data": {
      "text/plain": [
       "(12,)"
      ]
     },
     "execution_count": 64,
     "metadata": {},
     "output_type": "execute_result"
    }
   ],
   "source": [
    "z.shape"
   ]
  },
  {
   "cell_type": "code",
   "execution_count": 65,
   "id": "20d99885-0cdb-43eb-ba14-f57d38f7d969",
   "metadata": {},
   "outputs": [
    {
     "data": {
      "text/plain": [
       "dtype('int64')"
      ]
     },
     "execution_count": 65,
     "metadata": {},
     "output_type": "execute_result"
    }
   ],
   "source": [
    "z.dtype"
   ]
  },
  {
   "cell_type": "code",
   "execution_count": 66,
   "id": "6bb77ac6-5c35-4a2d-bf3f-d71cd7361c45",
   "metadata": {},
   "outputs": [],
   "source": [
    "w=z.reshape((3,4))  #reshape"
   ]
  },
  {
   "cell_type": "code",
   "execution_count": 67,
   "id": "ac0f6c1f-1ad9-4d93-956a-e28f84be161c",
   "metadata": {},
   "outputs": [
    {
     "data": {
      "text/plain": [
       "array([[ 0,  1,  2,  3],\n",
       "       [ 4,  5,  6,  7],\n",
       "       [ 8,  9, 10, 11]])"
      ]
     },
     "execution_count": 67,
     "metadata": {},
     "output_type": "execute_result"
    }
   ],
   "source": [
    "w"
   ]
  },
  {
   "cell_type": "code",
   "execution_count": 68,
   "id": "c4868332-614c-4073-a545-54fddbfef503",
   "metadata": {},
   "outputs": [
    {
     "data": {
      "text/plain": [
       "(3, 4)"
      ]
     },
     "execution_count": 68,
     "metadata": {},
     "output_type": "execute_result"
    }
   ],
   "source": [
    "w.shape"
   ]
  },
  {
   "cell_type": "code",
   "execution_count": 69,
   "id": "09fe7498-7361-4fb6-ad51-1115e5ded2c0",
   "metadata": {},
   "outputs": [
    {
     "data": {
      "text/plain": [
       "2"
      ]
     },
     "execution_count": 69,
     "metadata": {},
     "output_type": "execute_result"
    }
   ],
   "source": [
    "w.ndim"
   ]
  },
  {
   "cell_type": "code",
   "execution_count": 70,
   "id": "cf2bd228-7680-4cec-bfaf-b8930d87a1fe",
   "metadata": {},
   "outputs": [
    {
     "data": {
      "text/plain": [
       "dtype('int64')"
      ]
     },
     "execution_count": 70,
     "metadata": {},
     "output_type": "execute_result"
    }
   ],
   "source": [
    "w.dtype"
   ]
  },
  {
   "cell_type": "code",
   "execution_count": null,
   "id": "0e3f74d9-7668-4b9f-b06a-b7fea0aeaa3e",
   "metadata": {},
   "outputs": [],
   "source": []
  }
 ],
 "metadata": {
  "kernelspec": {
   "display_name": "Python [conda env:base] *",
   "language": "python",
   "name": "conda-base-py"
  },
  "language_info": {
   "codemirror_mode": {
    "name": "ipython",
    "version": 3
   },
   "file_extension": ".py",
   "mimetype": "text/x-python",
   "name": "python",
   "nbconvert_exporter": "python",
   "pygments_lexer": "ipython3",
   "version": "3.13.5"
  }
 },
 "nbformat": 4,
 "nbformat_minor": 5
}
